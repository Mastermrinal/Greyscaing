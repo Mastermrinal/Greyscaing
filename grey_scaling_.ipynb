{
  "nbformat": 4,
  "nbformat_minor": 0,
  "metadata": {
    "colab": {
      "provenance": [],
      "mount_file_id": "1Vr7G6uL6jJjMFwXgdaoFswqzorbEoDPz",
      "authorship_tag": "ABX9TyP6As4w6OOIsteTF3VLt/B8",
      "include_colab_link": true
    },
    "kernelspec": {
      "name": "python3",
      "display_name": "Python 3"
    },
    "language_info": {
      "name": "python"
    }
  },
  "cells": [
    {
      "cell_type": "markdown",
      "metadata": {
        "id": "view-in-github",
        "colab_type": "text"
      },
      "source": [
        "<a href=\"https://colab.research.google.com/github/Mastermrinal/Greyscaing/blob/main/grey_scaling_.ipynb\" target=\"_parent\"><img src=\"https://colab.research.google.com/assets/colab-badge.svg\" alt=\"Open In Colab\"/></a>"
      ]
    },
    {
      "cell_type": "code",
      "source": [
        "import os\n",
        "import cv2\n",
        "\n",
        "# Specify the input directory containing the images\n",
        "input_directory = \"/content/drive/MyDrive/photos \"\n",
        "\n",
        "# Specify the output directory for the grayscale images\n",
        "output_directory = \"grayscale_images\"\n",
        "\n",
        "# Create the output directory if it doesn't exist\n",
        "if not os.path.exists(output_directory):\n",
        "    os.makedirs(output_directory)\n",
        "\n",
        "# Iterate through the images in the input directory\n",
        "for filename in os.listdir(input_directory):\n",
        "    # Check if the file is an image\n",
        "    if filename.endswith(\".jpg\") or filename.endswith(\".png\"):\n",
        "        # Read the image\n",
        "        image_path = os.path.join(input_directory, filename)\n",
        "        image = cv2.imread(image_path)\n",
        "\n",
        "        # Convert the image to grayscale\n",
        "        grayscale_image = cv2.cvtColor(image, cv2.COLOR_BGR2GRAY)\n",
        "\n",
        "        # Save the grayscale image in the output directory\n",
        "        output_path = os.path.join(output_directory, filename)\n",
        "        cv2.imwrite(output_path, grayscale_image)\n"
      ],
      "metadata": {
        "id": "8BtyWLapWq6K"
      },
      "execution_count": null,
      "outputs": []
    }
  ]
}